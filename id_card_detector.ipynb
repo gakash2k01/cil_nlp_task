{
  "nbformat": 4,
  "nbformat_minor": 0,
  "metadata": {
    "colab": {
      "provenance": [],
      "collapsed_sections": []
    },
    "kernelspec": {
      "name": "python3",
      "display_name": "Python 3"
    },
    "language_info": {
      "name": "python"
    },
    "accelerator": "GPU"
  },
  "cells": [
    {
      "cell_type": "code",
      "source": [
        "%%capture\n",
        "!git clone https://github.com/musimab/Tc_ID_Card_OCR"
      ],
      "metadata": {
        "id": "1GAQh1qfCTJ5"
      },
      "execution_count": 1,
      "outputs": []
    },
    {
      "cell_type": "code",
      "source": [
        "%cd Tc_ID_Card_OCR/"
      ],
      "metadata": {
        "colab": {
          "base_uri": "https://localhost:8080/"
        },
        "id": "1_nzpXheFlVF",
        "outputId": "c1902d2e-58dd-43a7-d0cd-323e03485384"
      },
      "execution_count": 2,
      "outputs": [
        {
          "output_type": "stream",
          "name": "stdout",
          "text": [
            "/content/Tc_ID_Card_OCR\n"
          ]
        }
      ]
    },
    {
      "cell_type": "code",
      "source": [
        "%%capture\n",
        "!pip install opencv-python-headless==4.5.3.56\n",
        "!pip install craft-text-detector\n",
        "!pip install easyocr\n",
        "!pip install pytesseract\n",
        "!pip install segmentation_models_pytorch\n",
        "!pip install keras_ocr"
      ],
      "metadata": {
        "id": "QK51xWr6Ev-N"
      },
      "execution_count": 3,
      "outputs": []
    },
    {
      "cell_type": "code",
      "source": [
        "!python3 main.py --folder_name \"images\" --neighbor_box_distance 60 --face_recognition ssd --ocr_method EasyOcr --rotation_interval 60"
      ],
      "metadata": {
        "colab": {
          "base_uri": "https://localhost:8080/"
        },
        "id": "48oPzSOyEpqn",
        "outputId": "fd81953c-ee86-4e37-9479-e014072a1c12"
      },
      "execution_count": 4,
      "outputs": [
        {
          "output_type": "stream",
          "name": "stdout",
          "text": [
            "WARNING:easyocr.easyocr:Downloading detection model, please wait. This may take several minutes depending upon your network connection.\n",
            "Progress: |██████████████████████████████████████████████████| 100.0% CompleteWARNING:easyocr.easyocr:Downloading recognition model, please wait. This may take several minutes depending upon your network connection.\n",
            "Progress: |██████████████████████████████████████████████████| 100.0% Complete/usr/local/lib/python3.7/dist-packages/torchvision/models/_utils.py:253: UserWarning: Accessing the model URLs via the internal dictionary of the module is deprecated since 0.13 and will be removed in 0.15. Please access them via the appropriate Weights Enum instead.\n",
            "  \"Accessing the model URLs via the internal dictionary of the module is deprecated since 0.13 and will \"\n",
            "/usr/local/lib/python3.7/dist-packages/torchvision/models/_utils.py:209: UserWarning: The parameter 'pretrained' is deprecated since 0.13 and will be removed in 0.15, please use 'weights' instead.\n",
            "  f\"The parameter '{pretrained_param}' is deprecated since 0.13 and will be removed in 0.15, \"\n",
            "/usr/local/lib/python3.7/dist-packages/torchvision/models/_utils.py:223: UserWarning: Arguments other than a weight enum or `None` for 'weights' are deprecated since 0.13 and will be removed in 0.15. The current behavior is equivalent to passing `weights=None`.\n",
            "  warnings.warn(msg)\n",
            "Craft text detector weight will be downloaded to /root/.craft_text_detector/weights/craft_mlt_25k.pth\n",
            "Downloading...\n",
            "From: https://drive.google.com/uc?id=1bupFXqT-VU6Jjeul13XP7yx2Sg5IHr4J\n",
            "To: /root/.craft_text_detector/weights/craft_mlt_25k.pth\n",
            "100% 83.2M/83.2M [00:00<00:00, 156MB/s]\n",
            "Craft text refiner weight will be downloaded to /root/.craft_text_detector/weights/craft_refiner_CTW1500.pth\n",
            "Downloading...\n",
            "From: https://drive.google.com/uc?id=1xcE9qpJXp4ofINwXWVhhQIh9S8Z7cuGj\n",
            "To: /root/.craft_text_detector/weights/craft_refiner_CTW1500.pth\n",
            "100% 1.85M/1.85M [00:00<00:00, 211MB/s]\n",
            "/usr/local/lib/python3.7/dist-packages/craft_text_detector/craft_utils.py:415: VisibleDeprecationWarning: Creating an ndarray from ragged nested sequences (which is a list-or-tuple of lists-or-tuples-or ndarrays with different lengths or shapes) is deprecated. If you meant to do this, you must specify 'dtype=object' when creating the ndarray.\n",
            "  polys = np.array(polys)\n",
            "/usr/local/lib/python3.7/dist-packages/craft_text_detector/predict.py:110: VisibleDeprecationWarning: Creating an ndarray from ragged nested sequences (which is a list-or-tuple of lists-or-tuples-or ndarrays with different lengths or shapes) is deprecated. If you meant to do this, you must specify 'dtype=object' when creating the ndarray.\n",
            "  polys_as_ratio = np.array(polys_as_ratio)\n",
            "Downloading: \"https://download.pytorch.org/models/resnet34-333f7ec4.pth\" to /root/.cache/torch/hub/checkpoints/resnet34-333f7ec4.pth\n",
            "100% 83.3M/83.3M [00:00<00:00, 218MB/s]\n",
            "Orientation of Tc ID Card is -0.4586263019257087 \n",
            " \n",
            "Tc : 12345678909\n",
            "Surname : MUSTAFA ALİ\n",
            "Name : YILMAZ\n",
            "DateofBirth : 07071999\n",
            " \n",
            "Figure(640x480)\n",
            "Figure(640x480)\n",
            "Orientation of Tc ID Card is 2.5144295510463395 \n",
            " \n",
            "Tc : 12345678909\n",
            "Surname : AHMET CENGİZ\n",
            "Name : YILMAZ\n",
            "DateofBirth : 07071999\n",
            " \n",
            "Figure(640x480)\n",
            "Figure(640x480)\n",
            "Execution Time: 16.834150314331055\n"
          ]
        }
      ]
    },
    {
      "cell_type": "code",
      "source": [],
      "metadata": {
        "id": "KYUaKvXOFPl_"
      },
      "execution_count": 4,
      "outputs": []
    },
    {
      "cell_type": "code",
      "source": [],
      "metadata": {
        "id": "kkCzd2cLGGY7"
      },
      "execution_count": 4,
      "outputs": []
    }
  ]
}